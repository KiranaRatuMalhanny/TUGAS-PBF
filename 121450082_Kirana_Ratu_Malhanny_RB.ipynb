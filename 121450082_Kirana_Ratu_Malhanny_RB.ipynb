{
  "nbformat": 4,
  "nbformat_minor": 0,
  "metadata": {
    "colab": {
      "provenance": []
    },
    "kernelspec": {
      "name": "python3",
      "display_name": "Python 3"
    },
    "language_info": {
      "name": "python"
    }
  },
  "cells": [
    {
      "cell_type": "markdown",
      "source": [
        "**NAMA : KIRANA RATU MALHANNY**\\\n",
        "**NIM : 121450082**\\\n",
        "**KELAS : RB**\n"
      ],
      "metadata": {
        "id": "J5gdK7almcag"
      }
    },
    {
      "cell_type": "markdown",
      "source": [
        "###1. Jelaskan menggunakan tabel mengenai kelebihan dan kekurangan paradigma procedural dibandingkan dengan object oriented (minimal 3)!"
      ],
      "metadata": {
        "id": "W_dCus2tGRRp"
      }
    },
    {
      "cell_type": "markdown",
      "metadata": {
        "id": "_N948u0IhT6W"
      },
      "source": [
        "## Kelebihan Procedural Dibandingkan Object Oriented\n",
        "<table>\n",
        "        <tr>\n",
        "            <th bgcolor=\"darkgreen\">Procedural</th>\n",
        "            <th bgcolor=\"darkgreen\">Object Oriented</th>\n",
        "        </tr>\n",
        "        <tr>\n",
        "            <td>Membutuhkan ruang memori lebih kecil dibanding Object Oriented</td>\n",
        "            <td>Membutuhkan ruang memori lebih besar dibanding Paradigma Procedural</td>\n",
        "        </tr>\n",
        "        <tr>\n",
        "            <td>Lebih mudah dipahami</td>\n",
        "            <td>Sedikit lebih sulit dipahami</td>\n",
        "        </tr>\n",
        "        <tr>\n",
        "            <td>Cocok pada aplikasi atau projek yang sederhana</td>\n",
        "            <td>Cocok pada aplikasi atau projek yang kompleks</td>\n",
        "        </tr>\n",
        "</table>\n",
        "\n",
        "## Kekurangan Paradigma Procedural dibandingkan Object Oriented\n",
        "<table>\n",
        "        <tr>\n",
        "            <th bgcolor=\"darkred\">Procedural</th>\n",
        "            <th bgcolor=\"darkred\">Object Oriented</th>\n",
        "        </tr>\n",
        "        <tr>\n",
        "            <td>Data pasif</td>\n",
        "            <td>Data aktif</td>\n",
        "        </tr>\n",
        "        <tr>\n",
        "            <td>Tidak memiliki acces modifiers</td>\n",
        "            <td>Memiliki acces modifiers</td>\n",
        "        </tr>\n",
        "        <tr>\n",
        "            <td>Tidak dapat melakukan abstraction dalam penyembunyian data meyebabkan data kurang aman</td>\n",
        "            <td>Dapat melakukan abstraction dalam penyembunyian data sehingga data lebih aman dibanding procedural</td>\n",
        "        </tr>\n",
        "</table>"
      ]
    },
    {
      "cell_type": "markdown",
      "source": [
        "### 2. Jelaskan menggunakan tabel mengenai kelebihan dan kekurangan paradigma object oriented dibandingkan dengan functional (minimal 3) !"
      ],
      "metadata": {
        "id": "YBBWpdyEYgq0"
      }
    },
    {
      "cell_type": "markdown",
      "metadata": {
        "id": "GT2_-Sh5wgOC"
      },
      "source": [
        "## Kelebihan Object Oriented dibandingkan Functional\n",
        "<table>\n",
        "        <tr>\n",
        "            <th bgcolor=\"darkgreen\">Object Oriented</th>\n",
        "            <th bgcolor=\"darkgreen\">Functional</th>\n",
        "        </tr>\n",
        "        <tr>\n",
        "            <td>Mudah dipahami pemula</td>\n",
        "            <td>Sulit dipahami oleh pemula</td>\n",
        "        </tr>\n",
        "        <tr>\n",
        "            <td>Algoritma lebih jelas</td>\n",
        "            <td>Algoritma kurang jelas</td>\n",
        "        </tr>\n",
        "        <tr>\n",
        "            <td>Cocok untuk project besar </td>\n",
        "            <td>Kurang cocok untuk project besar</td>\n",
        "        </tr>\n",
        "      \n",
        "</table>\n",
        "\n",
        "\n",
        "\n",
        "## Kekurangan Object Oriented dibandingkan Functional\n",
        "<table>\n",
        "        <tr>\n",
        "            <th bgcolor=\"darkred\">Object Oriented</th>\n",
        "            <th bgcolor=\"darkred\">Functional</th>\n",
        "        </tr>\n",
        "        <tr>\n",
        "            <td>Tidak mendukung parallel programming</td>\n",
        "            <td>Mendukung parallel programming</td>\n",
        "        </tr>\n",
        "         <tr>\n",
        "            <td>Kurang cocok digunakan untuk tugas tertentu dikarenakan<br>yang terpenting adalah hasil bukan functional</td>\n",
        "            <td>Lebih cocok digunakan untuk tugas tertentu dikarenakan<br>tidak mementingkan hasil melainkan functional</td>\n",
        "        </tr>\n",
        "        <tr>\n",
        "            <td>Ruang memori lebih besar</td>\n",
        "            <td>Ruang memori lebih sedikit</td>\n",
        "        </tr>\n",
        "      \n",
        "</table>"
      ]
    },
    {
      "cell_type": "markdown",
      "source": [
        "### 3. Jelaskan menggunakan tabel mengenai kelebihan dan kekurangan paradigma procedural dibandingkan dengan functional (minimal 3) !"
      ],
      "metadata": {
        "id": "E0X46Op_b310"
      }
    },
    {
      "cell_type": "markdown",
      "metadata": {
        "id": "YlhE3r7F1-8i"
      },
      "source": [
        "## Kelebihan Procedural dibandingkan Functional\n",
        "<table>\n",
        "        <tr>\n",
        "            <th bgcolor=\"darkred\">Procedural</th>\n",
        "            <th bgcolor=\"darkred\">Functional</th>\n",
        "        </tr>\n",
        "        <tr>\n",
        "            <td>Penulisan loop normal</td>\n",
        "            <td>Penulisan loop cenderung mengintimidasi</td>\n",
        "        </tr>\n",
        "          <tr>\n",
        "            <td>Mudah dipahami oleh pemula</td>\n",
        "            <td>Sulit dipahami oleh pemula</td>\n",
        "        </tr>\n",
        "        <tr>\n",
        "            <td>JData bersifat mutable</td>\n",
        "            <td>Data bersifat imutable</td>\n",
        "        </tr>\n",
        "</table>\n",
        "\n",
        "## Kekurangan Procedural dibandingkan Functional\n",
        "<table>\n",
        "        <tr>\n",
        "            <th bgcolor=\"darkgreen\">Procedural</th>\n",
        "            <th bgcolor=\"darkgreen\">Functional</th>\n",
        "        </tr>\n",
        "        <tr>\n",
        "            <td>Kurang cocok digunakan dalam tugas tertentu<br>karena hanya mementingkan hasil</td>\n",
        "            <td>Cocok digunakan dalam tugas tertentu</td>\n",
        "        </tr>\n",
        "        <tr>\n",
        "            <td>Kode lebih panjang karena sedikit menggunakan fungsi</td>\n",
        "            <td>Kode lebih sedikit karena banyak menggunakan fungsi</td>\n",
        "        </tr>\n",
        "        <tr>\n",
        "            <td>Debugging lebih sulit</td>\n",
        "            <td>Debugging lebih mudah</td>\n",
        "        </tr>\n",
        "</table>"
      ]
    },
    {
      "cell_type": "markdown",
      "source": [
        "### 4. Apa yang dimaksud dengan pure functional programming language?\n"
      ],
      "metadata": {
        "id": "hJK5rRx8dwT8"
      }
    },
    {
      "cell_type": "markdown",
      "source": [
        "Pure functional programming adalah fungsi yang melakukan suatu operasi yang dimana hasilnya hanya bergantung dari input fungsi tanpa mengubah nilai dari varabel apapun. Pure functional juga tidak menimbulkan efek samping."
      ],
      "metadata": {
        "id": "SutOL9zhenGy"
      }
    },
    {
      "cell_type": "markdown",
      "source": [
        "### 5. Dari bahasa pemrograman FP di slide sebelumnya ( slide 14 ) , manakah yang termasuk pure functional programming language?"
      ],
      "metadata": {
        "id": "Urwdqz3lev6m"
      }
    },
    {
      "cell_type": "markdown",
      "source": [
        "Lisp, Haskell, dan Scala"
      ],
      "metadata": {
        "id": "hJgSbvEde3MU"
      }
    },
    {
      "cell_type": "markdown",
      "source": [
        "### 6.Membuat program Simple Password encryption, dengan ketentuan\n",
        "#####1. Input password bertipe string dengan batasan panjang password 100 karakter\n",
        "#####2. Setiap karakter dari string tersebut diubah menjadi ASCII value\n",
        "#####3. Kemudian setiap ASCII value tersebut dikembangkan menjadi 3 value dengan dilakukan operasi berikut:\n",
        "1. Value pertama dibagi dengan integer 26 kemudian\n",
        "dibulatkan dan dijumlahkan dengan 80 kemudian diubah\n",
        "kembali menjadi karakter\n",
        "2. Value kedua dihitung sisa bagi dengan 26 kemudian\n",
        "dijumlahkan dengan 80 kemudian diubah kembali menjadi\n",
        "karakter\n",
        "3. Value ketiga adalah karakter ‘+’ jika value pertama lebih\n",
        "besar dari value kedua, atau value ketiga adalah karakter ‘-’\n",
        "jika value pertama tidak lebih besar dari value kedua\n",
        "4. Deretkan value pertama, kedua dan ketiga untuk setiap karakter\n",
        "dalam password tersebut sehingga didapatkan password dalam\n",
        "bentuk baru\n"
      ],
      "metadata": {
        "id": "YancsfCne88n"
      }
    },
    {
      "cell_type": "markdown",
      "source": [
        "###Jawaban N0.6\n",
        "1. Buat sebuah program yang secara otomatis mengubah password yang di input menjadi terenkripsi sesuai aturan tersebut!"
      ],
      "metadata": {
        "id": "PGpH7uutinQl"
      }
    },
    {
      "cell_type": "code",
      "source": [
        "\n",
        "def enkripsi(password_honey):\n",
        "  if len(password_honey) > 100 or len(password_honey) == 0:\n",
        "    print(\"Masukkan 1-100 Karakter Password\")\n",
        "  else:\n",
        "    ascii = [str(ord(s)) for  s in password_honey]\n",
        "    enkripsi_pw = ''.join(chr((int(y)//26)+80)+chr((int(y)%26)+80)+('+' if (int(y)//26)+80 > (int(y)%26)+80 else '-') for  y in ascii)\n",
        "    print(\"Enkripsi Password: \", enkripsi_pw)\n",
        "\n",
        "def dekripsi(password_honey):\n",
        "  split_password = [(password_honey[i:i+3]) for i in range(0, len(password_honey), 3)]\n",
        "  dekripsi_pw = ''.join(chr(((ord(list(f)[0])-80)*26)+(ord(list(f)[1])-80)) for f in split_password)\n",
        "  print(\"Password Asli: \", dekripsi_pw)"
      ],
      "metadata": {
        "id": "qpyuJdzGf7oA"
      },
      "execution_count": 5,
      "outputs": []
    },
    {
      "cell_type": "markdown",
      "source": [
        "2. Apa output yang dihasilkan dari program tersebut jika input password adalah 'anakanakcerdas2020' ?"
      ],
      "metadata": {
        "id": "LRrn549ZkUbm"
      }
    },
    {
      "cell_type": "code",
      "source": [
        "password_honey = input(\"Masukkan Password Asli Anda: \")\n",
        "enkripsi(password_honey)"
      ],
      "metadata": {
        "colab": {
          "base_uri": "https://localhost:8080/"
        },
        "id": "EuG-bajSkkCn",
        "outputId": "19a9dcc0-70ba-4201-9fc7-f10607b37897"
      },
      "execution_count": 6,
      "outputs": [
        {
          "output_type": "stream",
          "name": "stdout",
          "text": [
            "Masukkan Password Asli Anda: anakanakcerdas2020\n",
            "Enkripsi Password:  Sc-TV-Sc-TS+Sc-TV-Sc-TS+Se-Sg-TZ-Sf-Sc-T[-Qh-Qf-Qh-Qf-\n"
          ]
        }
      ]
    },
    {
      "cell_type": "markdown",
      "source": [
        "3. User tersebut lupa password asli yang dia inputkan ke dalam program tersebut, password setelah dienkripsi adalah ‘Sc-TV-Sc-TS+Sc-TV-Sc-TS+Se-Sg-TZ-Sf-Sc-T[-Qh-Qf-Qh-Qf-’. Bantulah user tersebut mendapatkan password asli nya"
      ],
      "metadata": {
        "id": "GG4ha-a4lQXx"
      }
    },
    {
      "cell_type": "code",
      "source": [
        "enkripsi_password = input(\"Masukkan Enkripsi Password Anda: \")\n",
        "dekripsi(enkripsi_password)"
      ],
      "metadata": {
        "colab": {
          "base_uri": "https://localhost:8080/"
        },
        "id": "iXqamer4lVxT",
        "outputId": "c4cad0aa-f5c0-42bd-8596-9e60a588ac9f"
      },
      "execution_count": 4,
      "outputs": [
        {
          "output_type": "stream",
          "name": "stdout",
          "text": [
            "Masukkan Enkripsi Password Anda: Sc-TV-Sc-TS+Sc-TV-Sc-TS+Se-Sg-TZ-Sf-Sc-T[-Qh-Qf-Qh-Qf-\n",
            "Password Asli:  anakanakcerdas2020\n"
          ]
        }
      ]
    }
  ]
}